{
 "cells": [
  {
   "cell_type": "code",
   "execution_count": 1,
   "metadata": {},
   "outputs": [
    {
     "name": "stderr",
     "output_type": "stream",
     "text": [
      "/Users/pushkalm11/miniconda3/envs/MLP_mixer/lib/python3.10/site-packages/tqdm/auto.py:21: TqdmWarning: IProgress not found. Please update jupyter and ipywidgets. See https://ipywidgets.readthedocs.io/en/stable/user_install.html\n",
      "  from .autonotebook import tqdm as notebook_tqdm\n"
     ]
    }
   ],
   "source": [
    "import sys\n",
    "sys.path.insert(0, './../Models')\n",
    "\n",
    "from mlp_mixer import MLPMixer\n",
    "import numpy as np\n",
    "import torch\n",
    "from torchvision import datasets, transforms\n",
    "from torch.utils.data import DataLoader"
   ]
  },
  {
   "cell_type": "code",
   "execution_count": 2,
   "metadata": {},
   "outputs": [],
   "source": [
    "net = MLPMixer(in_channels = 3,\n",
    "               dim = 768,\n",
    "               num_classes = 21843,\n",
    "               patch_size = 16,\n",
    "               image_size = 224,\n",
    "               depth = 12,\n",
    "               token_dim = 384,\n",
    "               channel_dim = 3072)"
   ]
  },
  {
   "cell_type": "code",
   "execution_count": 3,
   "metadata": {},
   "outputs": [],
   "source": [
    "def convert_keys(state_dict):\n",
    "    keys = state_dict.keys()\n",
    "    new_keys = []\n",
    "    new_state_dict = {}\n",
    "\n",
    "    for key in keys:\n",
    "        new_key = key.replace(\"/\", \".\")\n",
    "        new_key = new_key.replace(\"MixerBlock_\", \"MixerBlock.\")\n",
    "        new_key = new_key.replace(\"channel_mixing.Dense_0\", \"channel_mixing.1.net.0\")\n",
    "        new_key = new_key.replace(\"channel_mixing.Dense_1\", \"channel_mixing.1.net.3\")\n",
    "        new_key = new_key.replace(\"token_mixing.Dense_0\", \"token_mixing.2.net.0\")\n",
    "        new_key = new_key.replace(\"token_mixing.Dense_1\", \"token_mixing.2.net.3\")\n",
    "        new_key = new_key.replace(\"LayerNorm_0\", \"token_mixing.0\")\n",
    "        new_key = new_key.replace(\"LayerNorm_1\", \"channel_mixing.0\")\n",
    "        new_key = new_key.replace(\"scale\", \"weight\")\n",
    "        new_key = new_key.replace(\"kernel\", \"weight\")\n",
    "        new_key = new_key.replace(\"stem\", \"stem.0\")\n",
    "        new_key = new_key.replace(\"head\", \"head.0\")\n",
    "        new_key = new_key.replace(\"pre_head.0_layer_norm\", \"pre_head_layer_norm\")\n",
    "        new_keys.append(new_key)\n",
    "    \n",
    "    for (key, new_key) in zip(keys, new_keys):\n",
    "        new_state_dict[new_key] = torch.tensor(state_dict[key], dtype = torch.float32).T\n",
    "    return new_state_dict"
   ]
  },
  {
   "cell_type": "code",
   "execution_count": 4,
   "metadata": {},
   "outputs": [
    {
     "ename": "FileNotFoundError",
     "evalue": "[Errno 2] No such file or directory: './../Weights/imagenet21k-Mixer-B_16.npz'",
     "output_type": "error",
     "traceback": [
      "\u001b[0;31m---------------------------------------------------------------------------\u001b[0m",
      "\u001b[0;31mFileNotFoundError\u001b[0m                         Traceback (most recent call last)",
      "Cell \u001b[0;32mIn[4], line 1\u001b[0m\n\u001b[0;32m----> 1\u001b[0m google_weights \u001b[38;5;241m=\u001b[39m \u001b[43mnp\u001b[49m\u001b[38;5;241;43m.\u001b[39;49m\u001b[43mload\u001b[49m\u001b[43m(\u001b[49m\u001b[38;5;124;43m\"\u001b[39;49m\u001b[38;5;124;43m./../Weights/imagenet21k-Mixer-B_16.npz\u001b[39;49m\u001b[38;5;124;43m\"\u001b[39;49m\u001b[43m,\u001b[49m\u001b[43m \u001b[49m\u001b[43mallow_pickle\u001b[49m\u001b[43m \u001b[49m\u001b[38;5;241;43m=\u001b[39;49m\u001b[43m \u001b[49m\u001b[38;5;28;43;01mTrue\u001b[39;49;00m\u001b[43m)\u001b[49m\n\u001b[1;32m      2\u001b[0m \u001b[38;5;66;03m# new_weights = convert_keys(google_weights)\u001b[39;00m\n\u001b[1;32m      3\u001b[0m new_weights \u001b[38;5;241m=\u001b[39m google_weights\n",
      "File \u001b[0;32m~/miniconda3/envs/MLP_mixer/lib/python3.10/site-packages/numpy/lib/npyio.py:427\u001b[0m, in \u001b[0;36mload\u001b[0;34m(file, mmap_mode, allow_pickle, fix_imports, encoding, max_header_size)\u001b[0m\n\u001b[1;32m    425\u001b[0m     own_fid \u001b[38;5;241m=\u001b[39m \u001b[38;5;28;01mFalse\u001b[39;00m\n\u001b[1;32m    426\u001b[0m \u001b[38;5;28;01melse\u001b[39;00m:\n\u001b[0;32m--> 427\u001b[0m     fid \u001b[38;5;241m=\u001b[39m stack\u001b[38;5;241m.\u001b[39menter_context(\u001b[38;5;28;43mopen\u001b[39;49m\u001b[43m(\u001b[49m\u001b[43mos_fspath\u001b[49m\u001b[43m(\u001b[49m\u001b[43mfile\u001b[49m\u001b[43m)\u001b[49m\u001b[43m,\u001b[49m\u001b[43m \u001b[49m\u001b[38;5;124;43m\"\u001b[39;49m\u001b[38;5;124;43mrb\u001b[39;49m\u001b[38;5;124;43m\"\u001b[39;49m\u001b[43m)\u001b[49m)\n\u001b[1;32m    428\u001b[0m     own_fid \u001b[38;5;241m=\u001b[39m \u001b[38;5;28;01mTrue\u001b[39;00m\n\u001b[1;32m    430\u001b[0m \u001b[38;5;66;03m# Code to distinguish from NumPy binary files and pickles.\u001b[39;00m\n",
      "\u001b[0;31mFileNotFoundError\u001b[0m: [Errno 2] No such file or directory: './../Weights/imagenet21k-Mixer-B_16.npz'"
     ]
    }
   ],
   "source": [
    "google_weights = np.load(\"./../Weights/imagenet21k-Mixer-B_16.npz\", allow_pickle = True)\n",
    "# new_weights = convert_keys(google_weights)\n",
    "new_weights = google_weights\n",
    "net.load_state_dict(new_weights, strict = False)"
   ]
  },
  {
   "cell_type": "code",
   "execution_count": null,
   "metadata": {},
   "outputs": [],
   "source": []
  }
 ],
 "metadata": {
  "kernelspec": {
   "display_name": "MLP_mixer",
   "language": "python",
   "name": "python3"
  },
  "language_info": {
   "codemirror_mode": {
    "name": "ipython",
    "version": 3
   },
   "file_extension": ".py",
   "mimetype": "text/x-python",
   "name": "python",
   "nbconvert_exporter": "python",
   "pygments_lexer": "ipython3",
   "version": "3.10.13"
  }
 },
 "nbformat": 4,
 "nbformat_minor": 2
}
