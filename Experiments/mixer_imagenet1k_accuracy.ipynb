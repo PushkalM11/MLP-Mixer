{
 "cells": [
  {
   "cell_type": "code",
   "execution_count": 1,
   "metadata": {},
   "outputs": [],
   "source": [
    "import sys\n",
    "sys.path.insert(0, './../Models')\n",
    "\n",
    "from mlp_mixer import MLPMixer\n",
    "from imagenet1k_dataloader import get_imagenet_loaders\n",
    "\n",
    "from tqdm import tqdm\n",
    "import numpy as np\n",
    "\n",
    "import torch\n",
    "import torch.nn as nn\n",
    "from torchvision import datasets, transforms\n",
    "from torch.utils.data import DataLoader"
   ]
  },
  {
   "cell_type": "code",
   "execution_count": 2,
   "metadata": {},
   "outputs": [
    {
     "name": "stdout",
     "output_type": "stream",
     "text": [
      "cuda\n"
     ]
    }
   ],
   "source": [
    "# B/16 architecture\n",
    "device = torch.device(\"cuda\") if torch.cuda.is_available() else torch.device(\"cpu\")\n",
    "print(device)\n",
    "net = MLPMixer(in_channels = 3,\n",
    "               dim = 768,\n",
    "               num_classes = 1000,\n",
    "               patch_size = 16,\n",
    "               image_size = 224,\n",
    "               depth = 12,\n",
    "               token_dim = 384,\n",
    "               channel_dim = 3072).to(device)\n",
    "non_linearity = nn.Softmax(dim = 1)"
   ]
  },
  {
   "cell_type": "code",
   "execution_count": 3,
   "metadata": {},
   "outputs": [],
   "source": [
    "def convert_keys(state_dict):\n",
    "    keys = state_dict.keys()\n",
    "    new_keys = []\n",
    "    new_state_dict = {}\n",
    "\n",
    "    for key in keys:\n",
    "        new_key = key.replace(\"/\", \".\")\n",
    "        new_key = new_key.replace(\"MixerBlock_\", \"MixerBlock.\")\n",
    "        new_key = new_key.replace(\"channel_mixing.Dense_0\", \"channel_mixing.1.net.0\")\n",
    "        new_key = new_key.replace(\"channel_mixing.Dense_1\", \"channel_mixing.1.net.3\")\n",
    "        new_key = new_key.replace(\"token_mixing.Dense_0\", \"token_mixing.2.net.0\")\n",
    "        new_key = new_key.replace(\"token_mixing.Dense_1\", \"token_mixing.2.net.3\")\n",
    "        new_key = new_key.replace(\"LayerNorm_0\", \"token_mixing.0\")\n",
    "        new_key = new_key.replace(\"LayerNorm_1\", \"channel_mixing.0\")\n",
    "        new_key = new_key.replace(\"scale\", \"weight\")\n",
    "        new_key = new_key.replace(\"kernel\", \"weight\")\n",
    "        new_key = new_key.replace(\"stem\", \"stem.0\")\n",
    "        new_key = new_key.replace(\"head\", \"head.0\")\n",
    "        new_key = new_key.replace(\"pre_head.0_layer_norm\", \"pre_head_layer_norm\")\n",
    "        new_keys.append(new_key)\n",
    "    \n",
    "    for (key, new_key) in zip(keys, new_keys):\n",
    "        new_state_dict[new_key] = torch.tensor(state_dict[key], dtype = torch.float32).T\n",
    "    return new_state_dict"
   ]
  },
  {
   "cell_type": "code",
   "execution_count": 4,
   "metadata": {},
   "outputs": [
    {
     "name": "stderr",
     "output_type": "stream",
     "text": [
      "/tmp/ipykernel_20545/1611322628.py:23: UserWarning: The use of `x.T` on tensors of dimension other than 2 to reverse their shape is deprecated and it will throw an error in a future release. Consider `x.mT` to transpose batches of matrices or `x.permute(*torch.arange(x.ndim - 1, -1, -1))` to reverse the dimensions of a tensor. (Triggered internally at ../aten/src/ATen/native/TensorShape.cpp:3614.)\n",
      "  new_state_dict[new_key] = torch.tensor(state_dict[key], dtype = torch.float32).T\n"
     ]
    },
    {
     "data": {
      "text/plain": [
       "<All keys matched successfully>"
      ]
     },
     "execution_count": 4,
     "metadata": {},
     "output_type": "execute_result"
    }
   ],
   "source": [
    "google_weights = np.load(\"./../Weights/imagenet1k-Mixer-B_16.npz\", allow_pickle = True)\n",
    "new_weights = convert_keys(google_weights)\n",
    "net.load_state_dict(new_weights, strict = False)"
   ]
  },
  {
   "cell_type": "code",
   "execution_count": 5,
   "metadata": {},
   "outputs": [],
   "source": [
    "imagenet1k_data_dir = \"./../Data/imagenet1k/\"\n",
    "test_size = 0.000001\n",
    "batch_size = 32\n",
    "\n",
    "train_loader, test_loader = get_imagenet_loaders(imagenet1k_data_dir, \n",
    "                                                 test_size = test_size, \n",
    "                                                 shuffle = True, \n",
    "                                                 batch_size = 32, \n",
    "                                                 device = device)"
   ]
  },
  {
   "cell_type": "code",
   "execution_count": 6,
   "metadata": {},
   "outputs": [
    {
     "name": "stderr",
     "output_type": "stream",
     "text": [
      "Inference: 100%|██████████| 3125/3125 [14:31<00:00,  3.58it/s, accuracy=36.1]"
     ]
    },
    {
     "name": "stdout",
     "output_type": "stream",
     "text": [
      "Accuracy: 36.13400000002206%\n"
     ]
    },
    {
     "name": "stderr",
     "output_type": "stream",
     "text": [
      "\n"
     ]
    }
   ],
   "source": [
    "accuracy = 0\n",
    "tqdm_loader = tqdm(train_loader, desc = \"Inference\", position = 0, leave = True)\n",
    "for dat in tqdm_loader:\n",
    "    image, label = dat[0], dat[1].cpu().detach()\n",
    "    output = net(image).cpu().detach()\n",
    "    output = non_linearity(output)\n",
    "    predictions = torch.topk(output, k = 10, dim = 1)[1]\n",
    "    \n",
    "    for i in range(len(label)):\n",
    "        if label[i] in predictions[i]:\n",
    "            accuracy += 1.0 / (batch_size * len(train_loader))\n",
    "    \n",
    "    tqdm_loader.set_postfix(accuracy = 100 * accuracy)\n",
    "    tqdm_loader.update(1)\n",
    "tqdm_loader.close()\n",
    "print(f\"Accuracy: {accuracy * 100}%\")"
   ]
  }
 ],
 "metadata": {
  "kernelspec": {
   "display_name": "MLP_mixer",
   "language": "python",
   "name": "python3"
  },
  "language_info": {
   "codemirror_mode": {
    "name": "ipython",
    "version": 3
   },
   "file_extension": ".py",
   "mimetype": "text/x-python",
   "name": "python",
   "nbconvert_exporter": "python",
   "pygments_lexer": "ipython3",
   "version": "3.10.13"
  }
 },
 "nbformat": 4,
 "nbformat_minor": 2
}
