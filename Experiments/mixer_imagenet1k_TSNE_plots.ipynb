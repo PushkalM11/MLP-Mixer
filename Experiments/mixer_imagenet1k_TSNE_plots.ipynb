{
 "cells": [
  {
   "cell_type": "code",
   "execution_count": null,
   "metadata": {},
   "outputs": [],
   "source": [
    "import sys\n",
    "sys.path.insert(0, './../Models')\n",
    "\n",
    "from mlp_mixer import MLPMixer\n",
    "from imagenet1k_dataloader import get_imagenet_loaders\n",
    "\n",
    "import numpy as np\n",
    "import seaborn as sns\n",
    "from tqdm import tqdm\n",
    "import matplotlib.pyplot as plt\n",
    "from sklearn.manifold import TSNE\n",
    "\n",
    "import torch\n",
    "import torch.nn as nn\n",
    "from torchvision import datasets, transforms\n",
    "from torch.utils.data import DataLoader"
   ]
  },
  {
   "cell_type": "code",
   "execution_count": null,
   "metadata": {},
   "outputs": [],
   "source": [
    "device = torch.device(\"cuda\") if torch.cuda.is_available() else torch.device(\"cpu\")\n",
    "print(device)"
   ]
  },
  {
   "cell_type": "code",
   "execution_count": null,
   "metadata": {},
   "outputs": [],
   "source": [
    "def convert_keys(state_dict, map_classifier, num_classes = 10):\n",
    "    keys = state_dict.keys()\n",
    "    new_keys = []\n",
    "    new_state_dict = {}\n",
    "\n",
    "    for key in keys:\n",
    "        new_key = key.replace(\"/\", \".\")\n",
    "        new_key = new_key.replace(\"MixerBlock_\", \"MixerBlock.\")\n",
    "        new_key = new_key.replace(\"channel_mixing.Dense_0\", \"channel_mixing.1.net.0\")\n",
    "        new_key = new_key.replace(\"channel_mixing.Dense_1\", \"channel_mixing.1.net.3\")\n",
    "        new_key = new_key.replace(\"token_mixing.Dense_0\", \"token_mixing.2.net.0\")\n",
    "        new_key = new_key.replace(\"token_mixing.Dense_1\", \"token_mixing.2.net.3\")\n",
    "        new_key = new_key.replace(\"LayerNorm_0\", \"token_mixing.0\")\n",
    "        new_key = new_key.replace(\"LayerNorm_1\", \"channel_mixing.0\")\n",
    "        new_key = new_key.replace(\"scale\", \"weight\")\n",
    "        new_key = new_key.replace(\"kernel\", \"weight\")\n",
    "        new_key = new_key.replace(\"stem\", \"stem.0\")\n",
    "        new_key = new_key.replace(\"head\", \"head.0\")\n",
    "        new_key = new_key.replace(\"pre_head.0_layer_norm\", \"pre_head_layer_norm\")\n",
    "        new_keys.append(new_key)\n",
    "    \n",
    "    if map_classifier:\n",
    "        for (key, new_key) in zip(keys, new_keys): \n",
    "            new_state_dict[new_key] = torch.tensor(state_dict[key], dtype = torch.float32).T\n",
    "    else:\n",
    "        for (key, new_key) in zip(keys, new_keys):\n",
    "            weights = torch.tensor(state_dict[key], dtype = torch.float32).T\n",
    "            if \"head.\" in new_key:\n",
    "                k = np.random.randint(0, weights.shape[0], num_classes)\n",
    "                # For bias\n",
    "                if len(weights.shape) == 1:\n",
    "                    weights = weights[k]\n",
    "                # For weights\n",
    "                else:\n",
    "                    weights = weights[k, :]\n",
    "            new_state_dict[new_key] = weights\n",
    "    return new_state_dict"
   ]
  },
  {
   "cell_type": "code",
   "execution_count": null,
   "metadata": {},
   "outputs": [],
   "source": [
    "# B/16 architecture\n",
    "net = MLPMixer(in_channels = 3,\n",
    "               dim = 768,\n",
    "               num_classes = 1000,\n",
    "               patch_size = 16,\n",
    "               image_size = 224,\n",
    "               depth = 12,\n",
    "               token_dim = 384,\n",
    "               channel_dim = 3072).to(device)\n",
    "\n",
    "google_weights = np.load(\"./../Weights/imagenet1k-Mixer-B_16.npz\", allow_pickle = True)\n",
    "new_weights = convert_keys(google_weights, map_classifier = True)\n",
    "\n",
    "net.load_state_dict(new_weights, strict = False)"
   ]
  },
  {
   "cell_type": "code",
   "execution_count": null,
   "metadata": {},
   "outputs": [],
   "source": [
    "class Identity(nn.Module):\n",
    "    def __init__(self):Inference\n",
    "        super(Identity, self).__init__()\n",
    "        \n",
    "    def forward(self, x):\n",
    "        return x\n",
    "\n",
    "net.head = Identity()\n",
    "# net.pre_head_layer_norm = Identity()"
   ]
  },
  {
   "cell_type": "code",
   "execution_count": null,
   "metadata": {},
   "outputs": [],
   "source": [
    "imagenet1k_data_dir = \"./../Data/imagenet1k/\"\n",
    "test_size = 0.1\n",
    "batch_size = 32\n",
    "\n",
    "train_loader, test_loader = get_imagenet_loaders(imagenet1k_data_dir, \n",
    "                                                 test_size = test_size, \n",
    "                                                 shuffle = True, \n",
    "                                                 batch_size = 32, \n",
    "                                                 device = device)"
   ]
  },
  {
   "cell_type": "code",
   "execution_count": null,
   "metadata": {},
   "outputs": [],
   "source": [
    "outputs = torch.Tensor()\n",
    "labels = torch.Tensor()\n",
    "\n",
    "tqdm_loader = tqdm(train_loader, desc = \"Inference Train Data\", position = 0, leave = True)\n",
    "for dat in tqdm_loader:\n",
    "    image, label = dat[0], dat[1].cpu().detach()\n",
    "    output = net(image).cpu().detach()\n",
    "    outputs = torch.cat((outputs, output), dim = 0)\n",
    "    labels = torch.cat((labels, label), dim = 0)\n",
    "    tqdm_loader.update(1)\n",
    "tqdm_loader.close()\n",
    "\n",
    "tqdm_loader = tqdm(test_loader, desc = \"Inference Test Data\", position = 0, leave = True)\n",
    "for dat in tqdm_loader:\n",
    "    image, label = dat[0], dat[1].cpu().detach()\n",
    "    output = net(image).cpu().detach()\n",
    "    outputs = torch.cat((outputs, output), dim = 0)\n",
    "    labels = torch.cat((labels, label), dim = 0)\n",
    "    tqdm_loader.update(1)"
   ]
  },
  {
   "cell_type": "code",
   "execution_count": null,
   "metadata": {},
   "outputs": [],
   "source": [
    "m = TSNE(n_components = 2, perplexity = 30, n_iter = 1000, learning_rate = 45)\n",
    "features = m.fit_transform(outputs)"
   ]
  },
  {
   "cell_type": "code",
   "execution_count": null,
   "metadata": {},
   "outputs": [],
   "source": [
    "cmap = sns.hls_palette(as_cmap = True)\n",
    "f, ax = plt.subplots(figsize = (12, 8))\n",
    "points = ax.scatter(features[:, 0], features[:, 1], c = labels.numpy(), s = 30, cmap = cmap)\n",
    "f.colorbar(points)\n",
    "plt.savefig(\"./../Plots/Imagenet1k_imagenet1kweights_TSNE.png\")\n",
    "plt.show()"
   ]
  }
 ],
 "metadata": {
  "kernelspec": {
   "display_name": "MLP_mixer",
   "language": "python",
   "name": "python3"
  },
  "language_info": {
   "codemirror_mode": {
    "name": "ipython",
    "version": 3
   },
   "file_extension": ".py",
   "mimetype": "text/x-python",
   "name": "python",
   "nbconvert_exporter": "python",
   "pygments_lexer": "ipython3",
   "version": "3.10.13"
  }
 },
 "nbformat": 4,
 "nbformat_minor": 2
}
